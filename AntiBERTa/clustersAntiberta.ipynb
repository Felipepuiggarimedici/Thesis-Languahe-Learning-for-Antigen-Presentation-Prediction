{
 "cells": [
  {
   "cell_type": "code",
   "execution_count": 6,
   "id": "3ddb1815",
   "metadata": {},
   "outputs": [],
   "source": [
    "import matplotlib as plt\n",
    "import random \n",
    "import numpy as np\n",
    "# we define a mix of fontsizes, for different parts of a plot\n",
    "SMALL_SIZE = 12\n",
    "MEDIUM_SIZE = 16\n",
    "BIGGER_SIZE = 20\n",
    "\n",
    "import seaborn as sns\n",
    "\n",
    "# example of how you can use these fontsizes to set a global configuration for matplotlib;\n",
    "# you should assign them based on the specific appearance of the figures you are producing\n",
    "plt.rc('font', size=SMALL_SIZE)          # controls default text sizes\n",
    "plt.rc('axes', titlesize=BIGGER_SIZE)    # fontsize of the axes title\n",
    "plt.rc('axes', labelsize=MEDIUM_SIZE)    # fontsize of the x and y labels\n",
    "plt.rc('xtick', labelsize=SMALL_SIZE)    # fontsize of the tick labels\n",
    "plt.rc('ytick', labelsize=SMALL_SIZE)    # fontsize of the tick labels\n",
    "plt.rc('legend', fontsize=MEDIUM_SIZE)   # legend fontsize\n",
    "plt.rc('figure', titlesize=BIGGER_SIZE)  # fontsize of the figure title\n",
    "\n",
    "#setting seeds\n",
    "seed = 6\n",
    "random.seed(seed )\n",
    "torch.manual_seed(seed )\n",
    "np.random.seed(seed ) \n",
    "colors = ['#9BC995', \"#083D77\", '#9A031E', '#C4B7CB', '#FC7753']\n",
    "\n",
    "# Create a seaborn palette from these colors\n",
    "custom_palette = sns.color_palette(colors)\n",
    "palette = sns.color_palette(custom_palette, n_colors=15)"
   ]
  },
  {
   "cell_type": "markdown",
   "id": "c7503b66",
   "metadata": {},
   "source": [
    "#### Load Model"
   ]
  },
  {
   "cell_type": "code",
   "execution_count": 7,
   "id": "c2f13cc8",
   "metadata": {},
   "outputs": [
    {
     "data": {
      "text/plain": [
       "RobertaForMaskedLM(\n",
       "  (roberta): RobertaModel(\n",
       "    (embeddings): RobertaEmbeddings(\n",
       "      (word_embeddings): Embedding(26, 768, padding_idx=1)\n",
       "      (position_embeddings): Embedding(152, 768, padding_idx=1)\n",
       "      (token_type_embeddings): Embedding(1, 768)\n",
       "      (LayerNorm): LayerNorm((768,), eps=1e-12, elementwise_affine=True)\n",
       "      (dropout): Dropout(p=0.1, inplace=False)\n",
       "    )\n",
       "    (encoder): RobertaEncoder(\n",
       "      (layer): ModuleList(\n",
       "        (0-11): 12 x RobertaLayer(\n",
       "          (attention): RobertaAttention(\n",
       "            (self): RobertaSdpaSelfAttention(\n",
       "              (query): Linear(in_features=768, out_features=768, bias=True)\n",
       "              (key): Linear(in_features=768, out_features=768, bias=True)\n",
       "              (value): Linear(in_features=768, out_features=768, bias=True)\n",
       "              (dropout): Dropout(p=0.1, inplace=False)\n",
       "            )\n",
       "            (output): RobertaSelfOutput(\n",
       "              (dense): Linear(in_features=768, out_features=768, bias=True)\n",
       "              (LayerNorm): LayerNorm((768,), eps=1e-12, elementwise_affine=True)\n",
       "              (dropout): Dropout(p=0.1, inplace=False)\n",
       "            )\n",
       "          )\n",
       "          (intermediate): RobertaIntermediate(\n",
       "            (dense): Linear(in_features=768, out_features=3072, bias=True)\n",
       "            (intermediate_act_fn): GELUActivation()\n",
       "          )\n",
       "          (output): RobertaOutput(\n",
       "            (dense): Linear(in_features=3072, out_features=768, bias=True)\n",
       "            (LayerNorm): LayerNorm((768,), eps=1e-12, elementwise_affine=True)\n",
       "            (dropout): Dropout(p=0.1, inplace=False)\n",
       "          )\n",
       "        )\n",
       "      )\n",
       "    )\n",
       "  )\n",
       "  (lm_head): RobertaLMHead(\n",
       "    (dense): Linear(in_features=768, out_features=768, bias=True)\n",
       "    (layer_norm): LayerNorm((768,), eps=1e-12, elementwise_affine=True)\n",
       "    (decoder): Linear(in_features=768, out_features=26, bias=True)\n",
       "  )\n",
       ")"
      ]
     },
     "execution_count": 7,
     "metadata": {},
     "output_type": "execute_result"
    }
   ],
   "source": [
    "import os\n",
    "import pandas as pd\n",
    "import torch\n",
    "from tqdm import tqdm\n",
    "from transformers import RobertaTokenizer, RobertaForMaskedLM\n",
    "\n",
    "# Create output directory\n",
    "os.makedirs(\"results\", exist_ok=True)\n",
    "\n",
    "# Load tokenizer and model\n",
    "tokenizer = RobertaTokenizer.from_pretrained(\"./tokenizer\")\n",
    "model = RobertaForMaskedLM.from_pretrained(\"./modelsHlaPeptide\")\n",
    "device = torch.device(\"cuda\" if torch.cuda.is_available() else \"cpu\")\n",
    "model.to(device)\n",
    "model.eval()"
   ]
  },
  {
   "cell_type": "code",
   "execution_count": 9,
   "id": "8c633bf6",
   "metadata": {},
   "outputs": [
    {
     "name": "stdout",
     "output_type": "stream",
     "text": [
      "HLA-B*15:02: 37616\n",
      "HLA-A*02:01: 30583\n",
      "HLA-B*57:01: 29221\n",
      "HLA-B*07:02: 26182\n",
      "HLA-A*01:01: 13103\n"
     ]
    }
   ],
   "source": [
    "from generatePeptides import generatePeptidesNaive\n",
    "import pandas as pd \n",
    "from collections import Counter\n",
    "import numpy as np\n",
    "import matplotlib.pyplot as plt\n",
    "#number of HLAs to assess\n",
    "topN = 5\n",
    "peptideLengths = 9\n",
    "\n",
    "df = pd.read_csv(\"data/fullData/data.csv\")\n",
    "hla_counts = df[\"HLA_sequence\"].value_counts()\n",
    "hla_counts = Counter(df[\"HLA\"])\n",
    "\n",
    "# Sort by most common\n",
    "most_common_hlas = hla_counts.most_common()\n",
    "\n",
    "# Print top HLA names with most samples\n",
    "for hla, count in most_common_hlas[:topN]:\n",
    "    print(f\"{hla}: {count}\")"
   ]
  },
  {
   "cell_type": "code",
   "execution_count": 10,
   "id": "cb615b85",
   "metadata": {},
   "outputs": [],
   "source": [
    "data = pd.read_csv(\"data/fullData/data.csv\")\n",
    "hlas = most_common_hlas[:topN]\n",
    "\n",
    "peptidesReal = {}\n",
    "peptidesGenerated = {}\n",
    "hla_sequences = {}\n",
    "peptidesToGenerate = 50\n",
    "for hla, _ in hlas:\n",
    "    # Extract real peptides for this HLA\n",
    "    peptides = data[data['HLA'] == hla]['peptide'].values  \n",
    "    peptidesReal[hla] = peptides\n",
    "\n",
    "    # Extract unique HLA sequence\n",
    "    hla_seq_set = set(data[data['HLA'] == hla]['HLA_sequence'].values)\n",
    "    if len(hla_seq_set) == 1:\n",
    "        hla_sequences[hla] = list(hla_seq_set)[0]\n",
    "    else:\n",
    "        print(hla_seq_set, peptidesReal, hla)\n",
    "        raise ValueError(f\"Multiple different sequences found for HLA {hla}\")\n",
    "\n",
    "    # Generate peptides using the extracted sequence\n",
    "    peptidesGenerated[hla] = generatePeptidesNaive(\n",
    "        tokenizer, \n",
    "        model, \n",
    "        hla_sequence=hla_sequences[hla], \n",
    "        peptide_length=peptideLengths, \n",
    "        top_k=peptidesToGenerate\n",
    "    )"
   ]
  },
  {
   "cell_type": "code",
   "execution_count": null,
   "id": "2f371180",
   "metadata": {},
   "outputs": [],
   "source": [
    "\n",
    "for hla, _ in hlas:\n",
    "    real_peps = peptidesReal[hla]\n",
    "    gen_peps = peptidesGenerated[hla]\n",
    "\n",
    "    # Tokenize HLA sequence once\n",
    "    hlaTokens = tokenizer.tokenize(hla)\n",
    "    hlaTokenIds = tokenizer.convert_tokens_to_ids(hlaTokens)\n",
    "    peptideStart = len(hlaTokenIds) + 2  # [CLS] HLA [SEP]\n",
    "\n",
    "    for pep in gen_peps:\n",
    "        peptideTokens = tokenizer.tokenize(pep)\n",
    "        peptideTokenIds = tokenizer.convert_tokens_to_ids(peptideTokens)\n",
    "\n",
    "        inputIds = [tokenizer.cls_token_id] + hlaTokenIds + [tokenizer.sep_token_id]\n",
    "        inputIds += peptideTokenIds + [tokenizer.sep_token_id]\n",
    "        inputIds = torch.tensor([inputIds]).to(device)\n",
    "        attentionMask = torch.ones_like(inputIds).to(device)\n",
    "\n",
    "        with torch.no_grad():\n",
    "            outputs = model.roberta(input_ids=inputIds, attention_mask=attentionMask)\n",
    "            hidden_states = outputs.last_hidden_state  \n",
    "            peptide_hidden_states = hidden_states[0, peptideStart:peptideStart + len(peptideTokenIds), :]\n"
   ]
  }
 ],
 "metadata": {
  "kernelspec": {
   "display_name": "Python 3",
   "language": "python",
   "name": "python3"
  },
  "language_info": {
   "codemirror_mode": {
    "name": "ipython",
    "version": 3
   },
   "file_extension": ".py",
   "mimetype": "text/x-python",
   "name": "python",
   "nbconvert_exporter": "python",
   "pygments_lexer": "ipython3",
   "version": "3.12.6"
  }
 },
 "nbformat": 4,
 "nbformat_minor": 5
}
