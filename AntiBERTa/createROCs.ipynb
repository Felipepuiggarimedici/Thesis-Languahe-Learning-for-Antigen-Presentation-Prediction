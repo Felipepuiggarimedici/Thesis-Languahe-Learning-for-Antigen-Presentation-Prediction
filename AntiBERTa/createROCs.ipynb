{
 "cells": [
  {
   "cell_type": "code",
   "execution_count": null,
   "id": "a9a9a35a",
   "metadata": {},
   "outputs": [
    {
     "name": "stdout",
     "output_type": "stream",
     "text": [
      "New CWD: c:\\Users\\felip\\Documents\\Thesis Language Learning\\LanguageLearningModelsForAntigenPresentationPrediction\\AntiBERTa\n",
      "Files here: ['antibertaTrainHLAA0201.py', 'antibertaTrainHlaPeptide.py', 'antibertaTrainPeptide.py', 'clustersAntiberta.ipynb', 'createROCs.ipynb', 'data', 'generatedPeptides', 'generatePeptides.py', 'history', 'hyperparamLoss', 'hyperparamSearch.py', 'levenshteinDist.ipynb', 'loss_records_fold_1.csv', 'loss_records_fold_2.csv', 'loss_records_fold_3.csv', 'metrics.ipynb', 'modelsHlaPeptide', 'modelsPeptideOnly', 'quality.py', 'results', 'run5Fold.py', 'temp_filtered.csv', 'test', 'testGeneratedPeptides.ipynb', 'tmp_output', 'tokenizer', 'TransmutModel', '__pycache__']\n",
      "sys.path includes notebook dir: True\n",
      "Tokenizer folder exists: True\n",
      "Contents: [WindowsPath('c:/Users/felip/Documents/Thesis Language Learning/LanguageLearningModelsForAntigenPresentationPrediction/AntiBERTa/tokenizer/merges.txt'), WindowsPath('c:/Users/felip/Documents/Thesis Language Learning/LanguageLearningModelsForAntigenPresentationPrediction/AntiBERTa/tokenizer/vocab.json')]\n"
     ]
    },
    {
     "data": {
      "text/plain": [
       "'\\nremember to change kernelspec in HPC file to:\\n\"kernelspec\": {\\n    \"display_name\": \"pytorch_env\",\\n    \"language\": \"python\",\\n    \"name\": \"pytorch_env\"\\n  },\\n\\nwhere pytorch_env is the conda environment with the required kernel and modules\\n'"
      ]
     },
     "execution_count": 1,
     "metadata": {},
     "output_type": "execute_result"
    }
   ],
   "source": [
    "import os\n",
    "import sys\n",
    "from pathlib import Path\n",
    "#for hpc\n",
    "#notebook_dir = Path(os.getcwd()) / \"AntiBERTa\"\n",
    "#for local device:\n",
    "notebook_dir = Path(os.getcwd())\n",
    "os.chdir(notebook_dir)\n",
    "\n",
    "if str(notebook_dir) not in sys.path:\n",
    "    sys.path.insert(0, str(notebook_dir))\n",
    "\n",
    "print(\"New CWD:\", os.getcwd())\n",
    "print(\"Files here:\", os.listdir())\n",
    "print(\"sys.path includes notebook dir:\", notebook_dir in map(Path, sys.path))\n",
    "\n",
    "\n",
    "tok_dir = Path(os.getcwd()) / \"tokenizer\"\n",
    "print(\"Tokenizer folder exists:\", tok_dir.exists())\n",
    "print(\"Contents:\", list(tok_dir.iterdir()) if tok_dir.exists() else \"N/A\")\n",
    "#works on hpc\n",
    "#print(\"Files in module folder:\", os.listdir(notebook_dir))\n",
    "\n",
    "'''\n",
    "remember to change kernelspec in HPC file to:\n",
    "\"kernelspec\": {\n",
    "    \"display_name\": \"pytorch_env\",\n",
    "    \"language\": \"python\",\n",
    "    \"name\": \"pytorch_env\"\n",
    "  },\n",
    "\n",
    "where pytorch_env is the conda environment with the required kernel and modules\n",
    "'''\n"
   ]
  },
  {
   "cell_type": "code",
   "execution_count": null,
   "id": "b48078d8",
   "metadata": {},
   "outputs": [],
   "source": [
    "#focusing on allele HLA:A:02:01. Can change this for different hlas\n",
    "hla_seq = \"YFAMYGEKVAHTHVDTLYVRYHYYTWAVLAYTWY\"\n",
    "modelName = \"HLA_HLA-A_02-01\"\n",
    "generatedPeptFileName = \"HLAA0201\"\n",
    "hlaName = \"HLA-A:02:01\""
   ]
  },
  {
   "cell_type": "code",
   "execution_count": null,
   "id": "de980c16",
   "metadata": {},
   "outputs": [],
   "source": [
    "import matplotlib as plt\n",
    "import torch\n",
    "import random\n",
    "import numpy as np\n",
    "# we define a mix of fontsizes, for different parts of a plot\n",
    "SMALL_SIZE = 12\n",
    "MEDIUM_SIZE = 16\n",
    "BIGGER_SIZE = 20\n",
    "\n",
    "import seaborn as sns\n",
    "\n",
    "# example of how you can use these fontsizes to set a global configuration for matplotlib;\n",
    "# you should assign them based on the specific appearance of the figures you are producing\n",
    "plt.rc('font', size=SMALL_SIZE)          # controls default text sizes\n",
    "plt.rc('axes', titlesize=BIGGER_SIZE)    # fontsize of the axes title\n",
    "plt.rc('axes', labelsize=MEDIUM_SIZE)    # fontsize of the x and y labels\n",
    "plt.rc('xtick', labelsize=SMALL_SIZE)    # fontsize of the tick labels\n",
    "plt.rc('ytick', labelsize=SMALL_SIZE)    # fontsize of the tick labels\n",
    "plt.rc('legend', fontsize=MEDIUM_SIZE)   # legend fontsize\n",
    "plt.rc('figure', titlesize=BIGGER_SIZE)  # fontsize of the figure title\n",
    "\n",
    "#setting seeds\n",
    "seed = 6\n",
    "random.seed(seed )\n",
    "torch.manual_seed(seed )\n",
    "np.random.seed(seed ) \n",
    "colours = ['#9BC995', \"#083D77\", '#9A031E', '#C4B7CB', '#FC7753']\n",
    "\n",
    "# Create a seaborn palette from these colors\n",
    "custom_palette = sns.color_palette(colours )\n",
    "palette = sns.color_palette(custom_palette, n_colors=15)"
   ]
  },
  {
   "cell_type": "code",
   "execution_count": 4,
   "id": "f91652c8",
   "metadata": {},
   "outputs": [
    {
     "data": {
      "text/plain": [
       "RobertaForMaskedLM(\n",
       "  (roberta): RobertaModel(\n",
       "    (embeddings): RobertaEmbeddings(\n",
       "      (word_embeddings): Embedding(26, 768, padding_idx=1)\n",
       "      (position_embeddings): Embedding(152, 768, padding_idx=1)\n",
       "      (token_type_embeddings): Embedding(1, 768)\n",
       "      (LayerNorm): LayerNorm((768,), eps=1e-12, elementwise_affine=True)\n",
       "      (dropout): Dropout(p=0.1, inplace=False)\n",
       "    )\n",
       "    (encoder): RobertaEncoder(\n",
       "      (layer): ModuleList(\n",
       "        (0-11): 12 x RobertaLayer(\n",
       "          (attention): RobertaAttention(\n",
       "            (self): RobertaSdpaSelfAttention(\n",
       "              (query): Linear(in_features=768, out_features=768, bias=True)\n",
       "              (key): Linear(in_features=768, out_features=768, bias=True)\n",
       "              (value): Linear(in_features=768, out_features=768, bias=True)\n",
       "              (dropout): Dropout(p=0.1, inplace=False)\n",
       "            )\n",
       "            (output): RobertaSelfOutput(\n",
       "              (dense): Linear(in_features=768, out_features=768, bias=True)\n",
       "              (LayerNorm): LayerNorm((768,), eps=1e-12, elementwise_affine=True)\n",
       "              (dropout): Dropout(p=0.1, inplace=False)\n",
       "            )\n",
       "          )\n",
       "          (intermediate): RobertaIntermediate(\n",
       "            (dense): Linear(in_features=768, out_features=3072, bias=True)\n",
       "            (intermediate_act_fn): GELUActivation()\n",
       "          )\n",
       "          (output): RobertaOutput(\n",
       "            (dense): Linear(in_features=3072, out_features=768, bias=True)\n",
       "            (LayerNorm): LayerNorm((768,), eps=1e-12, elementwise_affine=True)\n",
       "            (dropout): Dropout(p=0.1, inplace=False)\n",
       "          )\n",
       "        )\n",
       "      )\n",
       "    )\n",
       "  )\n",
       "  (lm_head): RobertaLMHead(\n",
       "    (dense): Linear(in_features=768, out_features=768, bias=True)\n",
       "    (layer_norm): LayerNorm((768,), eps=1e-12, elementwise_affine=True)\n",
       "    (decoder): Linear(in_features=768, out_features=26, bias=True)\n",
       "  )\n",
       ")"
      ]
     },
     "execution_count": 4,
     "metadata": {},
     "output_type": "execute_result"
    }
   ],
   "source": [
    "from transformers import RobertaTokenizer, RobertaForMaskedLM\n",
    "import torch\n",
    "# Load tokenizer and model from correct directories\n",
    "base = Path.cwd()  # should be /.../AntiBERTa\n",
    "tok_path = base / \"tokenizer\"\n",
    "model_path = base / \"modelsPeptideOnly\" /modelName\n",
    "\n",
    "tokenizer = RobertaTokenizer.from_pretrained(tok_path,local_files_only=True)\n",
    "model = RobertaForMaskedLM.from_pretrained(model_path, local_files_only=True) \n",
    "model.eval()\n",
    "device = torch.device(\"cuda\" if torch.cuda.is_available() else \"cpu\")\n",
    "model.to(device)"
   ]
  },
  {
   "cell_type": "markdown",
   "id": "7306cff1",
   "metadata": {},
   "source": [
    "#### Summarising probabilities with AUC"
   ]
  },
  {
   "cell_type": "code",
   "execution_count": 5,
   "id": "098e0c1a",
   "metadata": {},
   "outputs": [],
   "source": [
    "import pandas as pd \n",
    "from collections import Counter\n",
    "\n",
    "df = pd.read_csv(\"data/fullData/data.csv\")"
   ]
  },
  {
   "cell_type": "code",
   "execution_count": 6,
   "id": "2f0ae68f",
   "metadata": {},
   "outputs": [
    {
     "name": "stderr",
     "output_type": "stream",
     "text": [
      "Evaluating peptides: 100%|██████████| 6118/6118 [01:56<00:00, 52.53it/s]"
     ]
    },
    {
     "name": "stdout",
     "output_type": "stream",
     "text": [
      "AUC for HLA-A:02:01: 0.9073\n",
      "Done. Fixed-HLA evaluation complete.\n"
     ]
    },
    {
     "name": "stderr",
     "output_type": "stream",
     "text": [
      "\n"
     ]
    }
   ],
   "source": [
    "import os\n",
    "import pandas as pd\n",
    "import torch\n",
    "from tqdm import tqdm\n",
    "from transformers import RobertaTokenizer, RobertaForMaskedLM\n",
    "from sklearn.metrics import roc_auc_score, roc_curve\n",
    "\n",
    "os.makedirs(\"results\", exist_ok=True)\n",
    "\n",
    "df = pd.read_csv(\"data/dataWithNegatives/eval_with_negatives.csv\")\n",
    "\n",
    "filtered_df = df[df[\"HLA_sequence\"] == hla_seq] \n",
    "\n",
    "yTrue = []\n",
    "yScores = []\n",
    "peptideRecords = []\n",
    "\n",
    "for _, row in tqdm(filtered_df.iterrows(), total=filtered_df.shape[0], desc=\"Evaluating peptides\"):\n",
    "    peptide = row[\"peptide\"]\n",
    "    label = row[\"label\"]\n",
    "\n",
    "    peptideTokens = tokenizer.tokenize(peptide)\n",
    "    peptideTokenIds = tokenizer.convert_tokens_to_ids(peptideTokens)\n",
    "\n",
    "    inputIds = [tokenizer.cls_token_id] + peptideTokenIds + [tokenizer.sep_token_id]\n",
    "    inputIds = torch.tensor([inputIds]).to(device)\n",
    "    attentionMask = torch.ones_like(inputIds).to(device)\n",
    "\n",
    "    with torch.no_grad():\n",
    "        outputs = model(input_ids=inputIds, attention_mask=attentionMask)\n",
    "        logits = outputs.logits[0, 1:1 + len(peptideTokenIds)]\n",
    "        probs = torch.nn.functional.softmax(logits, dim=-1)\n",
    "\n",
    "        indices = torch.tensor(peptideTokenIds).unsqueeze(1).to(device)  # Ensure indices are on same device\n",
    "        tokenProbs = torch.gather(probs, 1, indices).squeeze()\n",
    "        seqLogProb = tokenProbs.log().sum().item()\n",
    "\n",
    "    yTrue.append(label)\n",
    "    yScores.append(seqLogProb)\n",
    "    peptideRecords.append((peptide, label, seqLogProb))\n",
    "\n",
    "# Compute and save AUC\n",
    "auc = roc_auc_score(yTrue, yScores)\n",
    "print(f\"AUC for {hlaName}: {auc:.4f}\")\n",
    "\n",
    "# Save AUC\n",
    "pd.DataFrame([{\"HLA_name\": hlaName, \"AUC\": auc}]).to_csv(\"results/fixed_hla_auc.csv\", index=False)\n",
    "\n",
    "# Save ROC curve\n",
    "fpr, tpr, thresholds = roc_curve(yTrue, yScores)\n",
    "pd.DataFrame({\"FPR\": fpr, \"TPR\": tpr, \"Threshold\": thresholds}).to_csv(\"results/fixed_hla_roc_curve.csv\", index=False)\n",
    "\n",
    "# Save peptide scores\n",
    "peptide_rows = [{\"Peptide\": p, \"Label\": l, \"LogProb\": s} for p, l, s in peptideRecords]\n",
    "pd.DataFrame(peptide_rows).to_csv(\"results/fixed_hla_peptide_scores.csv\", index=False)\n",
    "\n",
    "print(\"Done. Fixed-HLA evaluation complete.\")"
   ]
  },
  {
   "cell_type": "code",
   "execution_count": 10,
   "id": "14424e6c",
   "metadata": {},
   "outputs": [
    {
     "data": {
      "image/png": "[encoded data removed]",
      "text/plain": [
       "<Figure size 600x600 with 1 Axes>"
      ]
     },
     "metadata": {},
     "output_type": "display_data"
    }
   ],
   "source": [
    "import pandas as pd\n",
    "import matplotlib.pyplot as plt\n",
    "\n",
    "# Load data\n",
    "df = pd.read_csv(\"results/fixed_hla_roc_curve.csv\")\n",
    "auc_df = pd.read_csv(\"results/fixed_hla_auc.csv\")\n",
    "auc = auc_df.loc[0, \"AUC\"]\n",
    "hla_name = auc_df.loc[0, \"HLA_name\"]\n",
    "\n",
    "# Plot ROC\n",
    "plt.figure(figsize=(6, 6))\n",
    "plt.plot(df[\"FPR\"], df[\"TPR\"], label=f\"ROC Curve (AUC = {auc:.4f})\", color=colours[1])\n",
    "plt.plot([0, 1], [0, 1], linestyle='--', color=colours[4], linewidth=0.8)\n",
    "plt.xlabel(\"False Positive Rate\")\n",
    "plt.ylabel(\"True Positive Rate\")\n",
    "plt.title(f\"ROC Curve for {hla_name}\")\n",
    "plt.legend(loc=\"lower right\")\n",
    "plt.xlim(0, 1)\n",
    "plt.ylim(0, 1)\n",
    "plt.tight_layout()\n",
    "plt.savefig(\"results/fixed_hla_roc_curve.png\", dpi=300)\n",
    "plt.show()"
   ]
  }
 ],
 "metadata": {
  "kernelspec": {
   "display_name": "Python 3",
   "language": "python",
   "name": "python3"
  },
  "language_info": {
   "codemirror_mode": {
    "name": "ipython",
    "version": 3
   },
   "file_extension": ".py",
   "mimetype": "text/x-python",
   "name": "python",
   "nbconvert_exporter": "python",
   "pygments_lexer": "ipython3",
   "version": "3.11.9"
  }
 },
 "nbformat": 4,
 "nbformat_minor": 5
}
